{
  "nbformat": 4,
  "nbformat_minor": 0,
  "metadata": {
    "colab": {
      "name": "Python_AI",
      "provenance": [],
      "authorship_tag": "ABX9TyNKzMpMBow6ESsyf4t+WczW",
      "include_colab_link": true
    },
    "kernelspec": {
      "name": "python3",
      "display_name": "Python 3"
    }
  },
  "cells": [
    {
      "cell_type": "markdown",
      "metadata": {
        "id": "view-in-github",
        "colab_type": "text"
      },
      "source": [
        "<a href=\"https://colab.research.google.com/github/leonilpark/Janghoon_Park/blob/master/Python_AI.ipynb\" target=\"_parent\"><img src=\"https://colab.research.google.com/assets/colab-badge.svg\" alt=\"Open In Colab\"/></a>"
      ]
    },
    {
      "cell_type": "markdown",
      "metadata": {
        "id": "yFYAQX16WZVx",
        "colab_type": "text"
      },
      "source": [
        "# 1강 요약정리"
      ]
    },
    {
      "cell_type": "markdown",
      "metadata": {
        "id": "smCFPKDAXWiK",
        "colab_type": "text"
      },
      "source": [
        "+ 하위리스트"
      ]
    },
    {
      "cell_type": "code",
      "metadata": {
        "id": "EEsC0oejXaxv",
        "colab_type": "code",
        "colab": {}
      },
      "source": [
        ""
      ],
      "execution_count": 0,
      "outputs": []
    }
  ]
}